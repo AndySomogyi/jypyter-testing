{
 "cells": [
  {
   "cell_type": "code",
   "execution_count": 20,
   "metadata": {
    "scrolled": true
   },
   "outputs": [
    {
     "data": {
      "application/vnd.jupyter.widget-view+json": {
       "model_id": "7c5b41f599104ad3896b0fa74e08249d",
       "version_major": 2,
       "version_minor": 0
      },
      "text/plain": [
       "Image(value=b'')"
      ]
     },
     "metadata": {},
     "output_type": "display_data"
    },
    {
     "data": {
      "application/vnd.jupyter.widget-view+json": {
       "model_id": "142d5370abf44484afab823f207422fc",
       "version_major": 2,
       "version_minor": 0
      },
      "text/plain": [
       "interactive(children=(IntSlider(value=3, description='count', max=9, min=-3), Output()), _dom_classes=('widget…"
      ]
     },
     "metadata": {},
     "output_type": "display_data"
    },
    {
     "data": {
      "application/vnd.jupyter.widget-view+json": {
       "model_id": "d88599ff3e234fbf88687e493986d5ba",
       "version_major": 2,
       "version_minor": 0
      },
      "text/plain": [
       "interactive(children=(IntSlider(value=30, description='angle', max=90, min=-30), Output()), _dom_classes=('wid…"
      ]
     },
     "metadata": {},
     "output_type": "display_data"
    },
    {
     "data": {
      "application/vnd.jupyter.widget-view+json": {
       "model_id": "6f9906df33944463ba296318b4e06cae",
       "version_major": 2,
       "version_minor": 0
      },
      "text/plain": [
       "interactive(children=(IntSlider(value=3, description='number', max=9, min=-3), Text(value='black', description…"
      ]
     },
     "metadata": {},
     "output_type": "display_data"
    },
    {
     "data": {
      "text/plain": [
       "'\\ndef worker():\\n    triangle = Triangles()\\n    triangle.setTriagnlecount(1)\\n    angle = 30\\n    while True:\\n        time.sleep(1)\\n        triangle.tlist[0].angle+=10\\n        triangle.tlist[0].rotate()\\n        display(triangle.img)  \\nhread = Thread(target = worker)\\nthread.start()\\n'"
      ]
     },
     "execution_count": 20,
     "metadata": {},
     "output_type": "execute_result"
    }
   ],
   "source": [
    "import ipywidgets as widgets\n",
    "from IPython.display import display\n",
    "from PIL import Image,ImageDraw\n",
    "import math\n",
    "from  threading import Thread\n",
    "import time\n",
    "import io\n",
    "from ipywidgets import interact,interactive\n",
    "class Triangle:\n",
    "    def __init__(self,coord,color,angle):\n",
    "        self.coord = coord\n",
    "        self.color = color\n",
    "        self.angle = angle\n",
    "        \n",
    "    def rotate(self):\n",
    "        x_sum=0\n",
    "        y_sum=0\n",
    "        for coord in self.coord:\n",
    "            x_sum +=coord[0]\n",
    "            y_sum +=coord[1]\n",
    "        center_x = x_sum/3\n",
    "        center_y = y_sum/3\n",
    "        new_coord =[]\n",
    "        for i in range(len(self.coord)):\n",
    "            x = (self.coord[i][0]-center_x)*math.cos(math.radians(self.angle))-(self.coord[i][1]-center_y)*math.sin(math.radians(self.angle))+center_x\n",
    "            y = (self.coord[i][0]-center_x)*math.sin(math.radians(self.angle))+(self.coord[i][1]-center_y)*math.cos(math.radians(self.angle))+center_y\n",
    "            new_coord.append((x,y))\n",
    "        return new_coord\n",
    "                 \n",
    "class Triangles():\n",
    "    def __init__(self):\n",
    "        self.tlist = []  \n",
    "        self.img = Image.new('RGBA', (300, 300))\n",
    "        self.widget = widgets.Image()\n",
    "        display(self.widget)\n",
    "        \n",
    "    def setTrianglecount(self,count):\n",
    "        self.tlist = []\n",
    "        coord = [(75,75), (25, 175), (125,175)]\n",
    "        while (count > 0):\n",
    "            self.tlist.append(Triangle(coord,\"black\",0))\n",
    "            count-=1\n",
    "        self.displayTriangle()\n",
    "    def setTrianglecolor(self,number,color):\n",
    "        self.tlist[number-1].color = color\n",
    "        self.displayTriangle()\n",
    "    def setRotationAngle(self,angle):\n",
    "        for i in range(len(self.tlist)):\n",
    "            self.tlist[i].angle = i*angle\n",
    "            self.tlist[i].coord=self.tlist[i].rotate()    \n",
    "        self.displayTriangle()\n",
    "    def displayTriangle(self):\n",
    "        self.img = Image.new('RGBA', (300, 300))\n",
    "        draw = ImageDraw.Draw(self.img)\n",
    "        for i in range(len(self.tlist)): \n",
    "            draw.polygon(self.tlist[i].coord, fill =self.tlist[i].color)\n",
    "        fp = io.BytesIO()\n",
    "        self.img.save(fp,format=\"png\")\n",
    "        self.widget.value =fp.getvalue()\n",
    "        #display(self.widget)\n",
    "        #display(self.img)\n",
    "        \n",
    "    def sliders(self):\n",
    "        interact(a.setTrianglecount, count=3)\n",
    "        interact(a.setRotationAngle, angle=30)\n",
    "        interact(a.setTrianglecolor,number =3, color='black')\n",
    "\n",
    "a = Triangles()\n",
    "a.setTrianglecount(3)\n",
    "a.setTrianglecolor(2,\"blue\")\n",
    "a.setTrianglecolor(3,\"red\")\n",
    "a.setRotationAngle(30)\n",
    "a.displayTriangle()\n",
    "a.sliders()\n",
    "\n"
   ]
  },
  {
   "cell_type": "code",
   "execution_count": null,
   "metadata": {},
   "outputs": [],
   "source": []
  },
  {
   "cell_type": "code",
   "execution_count": null,
   "metadata": {},
   "outputs": [],
   "source": []
  }
 ],
 "metadata": {
  "kernelspec": {
   "display_name": "Python 3",
   "language": "python",
   "name": "python3"
  },
  "language_info": {
   "codemirror_mode": {
    "name": "ipython",
    "version": 3
   },
   "file_extension": ".py",
   "mimetype": "text/x-python",
   "name": "python",
   "nbconvert_exporter": "python",
   "pygments_lexer": "ipython3",
   "version": "3.6.5"
  }
 },
 "nbformat": 4,
 "nbformat_minor": 2
}
